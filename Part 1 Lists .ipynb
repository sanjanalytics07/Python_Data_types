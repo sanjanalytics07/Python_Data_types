{
 "cells": [
  {
   "cell_type": "code",
   "execution_count": 1,
   "id": "7dc143be",
   "metadata": {},
   "outputs": [],
   "source": [
    "# Lists are ordered, changeable, allows duplicate values\n",
    "# List being ordered, index starts from [0]\n",
    "# adding new item to list, by default adds as the last item\n",
    "# changing list items > change item, add new item, remove existing item\n",
    "# uses []"
   ]
  },
  {
   "cell_type": "code",
   "execution_count": 2,
   "id": "f2b32523",
   "metadata": {},
   "outputs": [
    {
     "name": "stdout",
     "output_type": "stream",
     "text": [
      "['apple', 'mango', 'orange']\n"
     ]
    }
   ],
   "source": [
    "# \n",
    "sample_list=['apple', 'mango', 'orange']\n",
    "print(sample_list)"
   ]
  },
  {
   "cell_type": "code",
   "execution_count": 3,
   "id": "dd7d76cd",
   "metadata": {},
   "outputs": [
    {
     "name": "stdout",
     "output_type": "stream",
     "text": [
      "['apple', 'mango', 'orange', 'mango']\n"
     ]
    }
   ],
   "source": [
    "# Duplicate items in list\n",
    "sample_list2=['apple', 'mango', 'orange', 'mango']\n",
    "print(sample_list2)"
   ]
  },
  {
   "cell_type": "code",
   "execution_count": 4,
   "id": "4b7137c1",
   "metadata": {},
   "outputs": [
    {
     "name": "stdout",
     "output_type": "stream",
     "text": [
      "3\n"
     ]
    }
   ],
   "source": [
    "# len() funcvtion used to check the number of items in a list\n",
    "print(len(sample_list))"
   ]
  },
  {
   "cell_type": "code",
   "execution_count": 5,
   "id": "92c7893e",
   "metadata": {},
   "outputs": [
    {
     "name": "stdout",
     "output_type": "stream",
     "text": [
      "[1, 2.4, 'apple']\n"
     ]
    }
   ],
   "source": [
    "# list can have items of any data type, \n",
    "# also in a single list there can be items of multiple data type\n",
    "\n",
    "sample_list3=[1,2.4,'apple']\n",
    "print(sample_list3)"
   ]
  },
  {
   "cell_type": "code",
   "execution_count": 6,
   "id": "5af3b629",
   "metadata": {},
   "outputs": [
    {
     "name": "stdout",
     "output_type": "stream",
     "text": [
      "<class 'list'>\n"
     ]
    }
   ],
   "source": [
    "# type() function helps to identify the data type of items \n",
    "print(type(sample_list))"
   ]
  },
  {
   "cell_type": "code",
   "execution_count": 7,
   "id": "fb8743ea",
   "metadata": {},
   "outputs": [
    {
     "name": "stdout",
     "output_type": "stream",
     "text": [
      "<class 'str'>\n",
      "<class 'float'>\n",
      "<class 'int'>\n"
     ]
    }
   ],
   "source": [
    "print(type(sample_list3[2]))\n",
    "print(type(sample_list3[1]))\n",
    "print(type(sample_list3[0]))"
   ]
  },
  {
   "cell_type": "code",
   "execution_count": 8,
   "id": "9bc2fdaa",
   "metadata": {},
   "outputs": [
    {
     "name": "stdout",
     "output_type": "stream",
     "text": [
      "(1, 2, 4)\n",
      "<class 'tuple'>\n"
     ]
    }
   ],
   "source": [
    "# list() function is used to convert a collection of data into lists\n",
    "# meaning other data collectors like tuple, sets etc can be converted to list\n",
    "\n",
    "ex_tuple=(1,2,4)\n",
    "print(ex_tuple)\n",
    "print(type(ex_tuple))"
   ]
  },
  {
   "cell_type": "code",
   "execution_count": 9,
   "id": "7b4060da",
   "metadata": {},
   "outputs": [
    {
     "name": "stdout",
     "output_type": "stream",
     "text": [
      "[1, 2, 4]\n",
      "<class 'list'>\n"
     ]
    }
   ],
   "source": [
    "ex_list=list(ex_tuple)\n",
    "print(ex_list)\n",
    "print(type(ex_list))"
   ]
  },
  {
   "cell_type": "markdown",
   "id": "dd3c85f0",
   "metadata": {},
   "source": [
    "### Collection data types in Python:\n",
    "#### List: is ordered and changeable. Allows duplicate members.\n",
    "#### Tuple: is ordered and unchangeable (its work around is that you convert a tuple to list, \n",
    "#### change the desired item and then convert the list back to a tuple). Allows duplicate members.\n",
    "#### Set: is unordered, unchangeable (but you can add and/or remove items in it)\n",
    "#### and unindexed. No duplicate members.\n",
    "#### Dictionary: in older versions of python, dictionaries were unordered but now they are ordered. \n",
    "#### They are changeable but don't allow duplicates"
   ]
  },
  {
   "cell_type": "code",
   "execution_count": 10,
   "id": "6e1ac89d",
   "metadata": {},
   "outputs": [],
   "source": [
    "# Accessing List items"
   ]
  },
  {
   "cell_type": "code",
   "execution_count": 11,
   "id": "95e5dd56",
   "metadata": {},
   "outputs": [
    {
     "name": "stdout",
     "output_type": "stream",
     "text": [
      "1\n",
      "apple\n"
     ]
    }
   ],
   "source": [
    "print(sample_list3[0])\n",
    "print(sample_list3[2])"
   ]
  },
  {
   "cell_type": "code",
   "execution_count": 12,
   "id": "64af8a3d",
   "metadata": {},
   "outputs": [],
   "source": [
    "# Negative indexing is to access a list item starting from the end\n",
    "# [-1] refers to item of a list at the last\n",
    "# [-2] refers to item of a list at the second last"
   ]
  },
  {
   "cell_type": "code",
   "execution_count": 13,
   "id": "adaf8f76",
   "metadata": {},
   "outputs": [
    {
     "name": "stdout",
     "output_type": "stream",
     "text": [
      "python\n"
     ]
    }
   ],
   "source": [
    "sample_list4=[22,'cat',76,41,'baby','python']\n",
    "print(sample_list4[-1])"
   ]
  },
  {
   "cell_type": "code",
   "execution_count": 14,
   "id": "597bffbf",
   "metadata": {},
   "outputs": [
    {
     "name": "stdout",
     "output_type": "stream",
     "text": [
      "76\n"
     ]
    }
   ],
   "source": [
    "print(sample_list4[-4])"
   ]
  },
  {
   "cell_type": "code",
   "execution_count": 15,
   "id": "cf16e3f2",
   "metadata": {},
   "outputs": [],
   "source": [
    "#  can return not one at a time but multiple items from a list at once\n",
    "# instead of mentioning index like [0] / [3] or say [-2]\n",
    "# [2:6] index positions with colon - in this left mentioned index i.e. here 2 is inclusive\n",
    "# but the right mentioned index i.e. here 6 is exclusive\n",
    "# meaning from the mentioned list you will get its item \n",
    "# starting from the index position of 2 up to item at the 5th index position"
   ]
  },
  {
   "cell_type": "code",
   "execution_count": 16,
   "id": "2d2414dd",
   "metadata": {},
   "outputs": [
    {
     "name": "stdout",
     "output_type": "stream",
     "text": [
      "11\n"
     ]
    }
   ],
   "source": [
    "sample_list5= [22,31,'mango', 'toffee',24, 32.651, 'boy', 90, 100, 61, 'ketchup']\n",
    "print(len(sample_list5))"
   ]
  },
  {
   "cell_type": "code",
   "execution_count": 17,
   "id": "222c104a",
   "metadata": {},
   "outputs": [
    {
     "name": "stdout",
     "output_type": "stream",
     "text": [
      "toffee\n",
      "61\n",
      "['toffee', 24, 32.651, 'boy', 90, 100]\n"
     ]
    }
   ],
   "source": [
    "print(sample_list5[3])\n",
    "print(sample_list5[9])\n",
    "print(sample_list5[3:9])"
   ]
  },
  {
   "cell_type": "code",
   "execution_count": 18,
   "id": "d41d6fc2",
   "metadata": {},
   "outputs": [
    {
     "name": "stdout",
     "output_type": "stream",
     "text": [
      "[22, 31, 'mango', 'toffee', 24, 32.651, 'boy', 90, 100]\n"
     ]
    }
   ],
   "source": [
    "# not mentioning start index and mentioning end index means \n",
    "# it will return the range of items from the list starting from fisrt item\n",
    "\n",
    "print(sample_list5[:9])"
   ]
  },
  {
   "cell_type": "code",
   "execution_count": 19,
   "id": "a3855c0e",
   "metadata": {},
   "outputs": [
    {
     "name": "stdout",
     "output_type": "stream",
     "text": [
      "[24, 32.651, 'boy', 90, 100, 61, 'ketchup']\n"
     ]
    }
   ],
   "source": [
    "# not mentioning the end index, returns a range of items from the mentioned index upto last item \n",
    "print(sample_list5[4:])"
   ]
  },
  {
   "cell_type": "code",
   "execution_count": 20,
   "id": "540b9190",
   "metadata": {},
   "outputs": [
    {
     "name": "stdout",
     "output_type": "stream",
     "text": [
      "[32.651, 'boy', 90, 100, 61]\n"
     ]
    }
   ],
   "source": [
    "# Range of negative index: to search items from the end of list\n",
    "# as usual, it excludes the item at the right index mentioned from the colon\n",
    "print(sample_list5[-6:-1])"
   ]
  },
  {
   "cell_type": "code",
   "execution_count": 21,
   "id": "45a1a9c8",
   "metadata": {},
   "outputs": [
    {
     "name": "stdout",
     "output_type": "stream",
     "text": [
      "Yes, ketchup is in the list\n"
     ]
    }
   ],
   "source": [
    "# checking if item(s) present in list:\n",
    "\n",
    "if 'ketchup' in sample_list5:\n",
    "    print('Yes, ketchup is in the list')"
   ]
  },
  {
   "cell_type": "code",
   "execution_count": 22,
   "id": "3cf740a5",
   "metadata": {},
   "outputs": [
    {
     "name": "stdout",
     "output_type": "stream",
     "text": [
      "No, girl is not in the list\n"
     ]
    }
   ],
   "source": [
    "if 'girl' not in sample_list5:\n",
    "    print('No, girl is not in the list')"
   ]
  },
  {
   "cell_type": "code",
   "execution_count": 23,
   "id": "76dc2e1e",
   "metadata": {},
   "outputs": [],
   "source": [
    "if 'jerry' in sample_list5:\n",
    "    print('Yes, jerry is in the list')"
   ]
  },
  {
   "cell_type": "code",
   "execution_count": 24,
   "id": "f66452e6",
   "metadata": {},
   "outputs": [
    {
     "name": "stdout",
     "output_type": "stream",
     "text": [
      "No, jerry is not in the list\n"
     ]
    }
   ],
   "source": [
    "if 'jerry' in sample_list5:\n",
    "    print('Yes, jerry is in the list')\n",
    "else:\n",
    "    print('No, jerry is not in the list')"
   ]
  },
  {
   "cell_type": "code",
   "execution_count": 25,
   "id": "757e5916",
   "metadata": {},
   "outputs": [],
   "source": [
    "# Changing items in the list\n",
    "# to change a particular item in the list, do it by mentioning its index number"
   ]
  },
  {
   "cell_type": "code",
   "execution_count": 26,
   "id": "260a2837",
   "metadata": {},
   "outputs": [
    {
     "name": "stdout",
     "output_type": "stream",
     "text": [
      "[22, 31, 'mango', 'toffee', 24, 32.651, 'boy', 90, 100, 61, 'ketchup']\n"
     ]
    }
   ],
   "source": [
    "print(sample_list5)"
   ]
  },
  {
   "cell_type": "code",
   "execution_count": 27,
   "id": "82ac7659",
   "metadata": {},
   "outputs": [
    {
     "data": {
      "text/plain": [
       "32.651"
      ]
     },
     "execution_count": 27,
     "metadata": {},
     "output_type": "execute_result"
    }
   ],
   "source": [
    "sample_list5[5]"
   ]
  },
  {
   "cell_type": "code",
   "execution_count": 28,
   "id": "3ca15510",
   "metadata": {},
   "outputs": [
    {
     "data": {
      "text/plain": [
       "'cherry'"
      ]
     },
     "execution_count": 28,
     "metadata": {},
     "output_type": "execute_result"
    }
   ],
   "source": [
    "sample_list5[5]='cherry'\n",
    "sample_list5[5]"
   ]
  },
  {
   "cell_type": "code",
   "execution_count": 29,
   "id": "f8a79962",
   "metadata": {},
   "outputs": [
    {
     "name": "stdout",
     "output_type": "stream",
     "text": [
      "[22, 31, 'mango', 'toffee', 24, 'cherry', 'boy', 90, 100, 61, 'ketchup']\n"
     ]
    }
   ],
   "source": [
    "print(sample_list5)"
   ]
  },
  {
   "cell_type": "code",
   "execution_count": 30,
   "id": "3d81dfa0",
   "metadata": {},
   "outputs": [],
   "source": [
    "#  similarly can change a range of items by mentioning their range of index numbers"
   ]
  },
  {
   "cell_type": "code",
   "execution_count": 31,
   "id": "572b18a0",
   "metadata": {},
   "outputs": [
    {
     "name": "stdout",
     "output_type": "stream",
     "text": [
      "[22, 31, 'kiwi', 'orange', 24, 'cherry', 'boy', 90, 100, 61, 'ketchup']\n"
     ]
    }
   ],
   "source": [
    "sample_list5[2:4]= ['kiwi', 'orange']\n",
    "print(sample_list5)"
   ]
  },
  {
   "cell_type": "code",
   "execution_count": 32,
   "id": "81a6ad49",
   "metadata": {},
   "outputs": [
    {
     "name": "stdout",
     "output_type": "stream",
     "text": [
      "[22, 100, 50, 25, 'kiwi', 'orange', 24, 'cherry', 'boy', 90, 100, 61, 'ketchup']\n"
     ]
    }
   ],
   "source": [
    "# if you add more items then replacing the specified index item, the items are added and shifts the rest items\n",
    "sample_list5[1:2]= 100,50,25\n",
    "print(sample_list5)"
   ]
  },
  {
   "cell_type": "code",
   "execution_count": 33,
   "id": "c0e4057d",
   "metadata": {},
   "outputs": [],
   "source": [
    "# if you replace less items then the mentioned range of items, in that case, \n",
    "# your new items replace the initial index items, but rest of the extra index items get deleted"
   ]
  },
  {
   "cell_type": "code",
   "execution_count": 34,
   "id": "34359964",
   "metadata": {},
   "outputs": [
    {
     "name": "stdout",
     "output_type": "stream",
     "text": [
      "[22, 'strawberry', 'blueberry', 'mulberry', 'boy', 90, 100, 61, 'ketchup']\n"
     ]
    }
   ],
   "source": [
    "sample_list5[1:8]=['strawberry', 'blueberry', 'mulberry']\n",
    "print(sample_list5)"
   ]
  },
  {
   "cell_type": "code",
   "execution_count": 35,
   "id": "3a3b6a4f",
   "metadata": {},
   "outputs": [
    {
     "name": "stdout",
     "output_type": "stream",
     "text": [
      "[22, 'strawberry', 'blueberry', 'mulberry', 'boy', 90, 100, 61, 'ketchup']\n",
      "\n",
      "[22, 'strawberry', 'blueberry', 'mulberry', 'boy', 90, 100, 61, 'ketchup', 'Rory']\n"
     ]
    }
   ],
   "source": [
    "# to insert a new item at the end of a list use the function append()\n",
    "print(sample_list5)\n",
    "print(\"\")\n",
    "sample_list5.append('Rory')\n",
    "print(sample_list5)"
   ]
  },
  {
   "cell_type": "code",
   "execution_count": 36,
   "id": "2ad7b998",
   "metadata": {},
   "outputs": [
    {
     "name": "stdout",
     "output_type": "stream",
     "text": [
      "[22, 'strawberry', 'blackberry', 'blueberry', 'mulberry', 'boy', 90, 100, 61, 'ketchup', 'Rory']\n"
     ]
    }
   ],
   "source": [
    "#  to insert a new item in the list without replacing or deleting any exisiting item use function .insert()\n",
    "# syntax: .insert(index, item_name)\n",
    "\n",
    "sample_list5.insert(2,'blackberry')\n",
    "print(sample_list5)"
   ]
  },
  {
   "cell_type": "code",
   "execution_count": 37,
   "id": "c982f681",
   "metadata": {},
   "outputs": [
    {
     "name": "stdout",
     "output_type": "stream",
     "text": [
      "[22, 'strawberry', 'blackberry', 'blueberry', 'mulberry', 'boy', 90, 100, 61, 'ketchup', 'Rory']\n",
      "\n",
      "['dogs', 'whales', 'tiger']\n",
      "[22, 'strawberry', 'blackberry', 'blueberry', 'mulberry', 'boy', 90, 100, 61, 'ketchup', 'Rory', 'dogs', 'whales', 'tiger']\n"
     ]
    }
   ],
   "source": [
    "# you can add items from another list into your list using the function .extend()\n",
    "print(sample_list5)\n",
    "\n",
    "print('')\n",
    "\n",
    "ext_list=['dogs', 'whales', 'tiger']\n",
    "print(ext_list)\n",
    "\n",
    "sample_list5.extend(ext_list)\n",
    "\n",
    "print(sample_list5)\n",
    "\n"
   ]
  },
  {
   "cell_type": "code",
   "execution_count": 38,
   "id": "6a0a2784",
   "metadata": {},
   "outputs": [
    {
     "name": "stdout",
     "output_type": "stream",
     "text": [
      "<class 'tuple'>\n",
      "('hibiscus', 'lily', 'petunia')\n"
     ]
    }
   ],
   "source": [
    "# not just lists in lists\n",
    "# but you can add any iterable items like tuples, sets and dictionaries as well in the list\n",
    "\n",
    "ext_tup=('hibiscus', 'lily', 'petunia')\n",
    "print(type(ext_tup))\n",
    "print(ext_tup)\n"
   ]
  },
  {
   "cell_type": "code",
   "execution_count": 39,
   "id": "863d0605",
   "metadata": {},
   "outputs": [
    {
     "name": "stdout",
     "output_type": "stream",
     "text": [
      "[22, 'strawberry', 'blackberry', 'blueberry', 'mulberry', 'boy', 90, 100, 61, 'ketchup', 'Rory', 'dogs', 'whales', 'tiger']\n",
      "\n",
      "[22, 'strawberry', 'blackberry', 'blueberry', 'mulberry', 'boy', 90, 100, 61, 'ketchup', 'Rory', 'dogs', 'whales', 'tiger', 'hibiscus', 'lily', 'petunia']\n"
     ]
    }
   ],
   "source": [
    "print(sample_list5)\n",
    "print('')\n",
    "sample_list5.extend(ext_tup)\n",
    "print(sample_list5)"
   ]
  },
  {
   "cell_type": "code",
   "execution_count": 40,
   "id": "af577887",
   "metadata": {},
   "outputs": [
    {
     "name": "stdout",
     "output_type": "stream",
     "text": [
      "<class 'set'>\n",
      "{'water', 2, 11}\n"
     ]
    }
   ],
   "source": [
    "ext_set={'water',2,11}\n",
    "print(type(ext_set))\n",
    "print(ext_set)"
   ]
  },
  {
   "cell_type": "code",
   "execution_count": 41,
   "id": "56d40b62",
   "metadata": {},
   "outputs": [],
   "source": [
    "sample_list5.extend(ext_set)"
   ]
  },
  {
   "cell_type": "code",
   "execution_count": 42,
   "id": "a8796bd5",
   "metadata": {},
   "outputs": [
    {
     "name": "stdout",
     "output_type": "stream",
     "text": [
      "[22, 'strawberry', 'blackberry', 'blueberry', 'mulberry', 'boy', 90, 100, 61, 'ketchup', 'Rory', 'dogs', 'whales', 'tiger', 'hibiscus', 'lily', 'petunia', 'water', 2, 11]\n"
     ]
    }
   ],
   "source": [
    "print(sample_list5)"
   ]
  },
  {
   "cell_type": "code",
   "execution_count": 43,
   "id": "39072871",
   "metadata": {},
   "outputs": [
    {
     "name": "stdout",
     "output_type": "stream",
     "text": [
      "<class 'dict'>\n",
      "{'class': 'executive', 'grade': 'E5'}\n"
     ]
    }
   ],
   "source": [
    "ext_dic={'class':'executive', 'grade': 'E5'}\n",
    "print(type(ext_dic))\n",
    "print(ext_dic)"
   ]
  },
  {
   "cell_type": "code",
   "execution_count": 44,
   "id": "c53b87fb",
   "metadata": {},
   "outputs": [
    {
     "name": "stdout",
     "output_type": "stream",
     "text": [
      "[22, 'strawberry', 'blackberry', 'blueberry', 'mulberry', 'boy', 90, 100, 61, 'ketchup', 'Rory', 'dogs', 'whales', 'tiger', 'hibiscus', 'lily', 'petunia', 'water', 2, 11, 'class', 'grade']\n"
     ]
    }
   ],
   "source": [
    "sample_list5.extend(ext_dic)\n",
    "print(sample_list5)"
   ]
  },
  {
   "cell_type": "code",
   "execution_count": 45,
   "id": "fa43537c",
   "metadata": {},
   "outputs": [],
   "source": [
    "#  Removing items from the list using .remove() function"
   ]
  },
  {
   "cell_type": "code",
   "execution_count": 46,
   "id": "eaa6ef24",
   "metadata": {},
   "outputs": [
    {
     "name": "stdout",
     "output_type": "stream",
     "text": [
      "22\n",
      "\n",
      "[22, 'strawberry', 'blackberry', 'blueberry', 'mulberry', 'boy', 90, 100, 61, 'ketchup', 'Rory', 'whales', 'tiger', 'hibiscus', 'lily', 'petunia', 'water', 2, 11, 'class', 'grade']\n",
      "21\n"
     ]
    }
   ],
   "source": [
    "print(len(sample_list5))\n",
    "print('')\n",
    "sample_list5.remove('dogs')\n",
    "print(sample_list5)\n",
    "print(len(sample_list5))"
   ]
  },
  {
   "cell_type": "code",
   "execution_count": 47,
   "id": "1985b50d",
   "metadata": {},
   "outputs": [
    {
     "name": "stdout",
     "output_type": "stream",
     "text": [
      "['boy', 'family', 'baby', 'boy', 'kid', 'girl']\n",
      "\n",
      "['family', 'baby', 'boy', 'kid', 'girl']\n"
     ]
    }
   ],
   "source": [
    "# if 2 similar items present in list and you use remove function to remove one of those similar items, \n",
    "# then the item which occurs first in the list is removed\n",
    "smlr_list=['boy', 'family', 'baby', 'boy', 'kid', 'girl']\n",
    "print(smlr_list)\n",
    "print('')\n",
    "smlr_list.remove('boy')\n",
    "print(smlr_list)"
   ]
  },
  {
   "cell_type": "code",
   "execution_count": 48,
   "id": "635805cb",
   "metadata": {},
   "outputs": [
    {
     "name": "stdout",
     "output_type": "stream",
     "text": [
      "[22, 'strawberry', 'blackberry', 'blueberry', 'mulberry', 'boy', 90, 100, 61, 'ketchup', 'Rory', 'whales', 'tiger', 'hibiscus', 'lily', 'petunia', 'water', 2, 11, 'class']\n"
     ]
    }
   ],
   "source": [
    "# to delete last item from list use .pop() function\n",
    "sample_list5.pop()\n",
    "print(sample_list5)"
   ]
  },
  {
   "cell_type": "code",
   "execution_count": 49,
   "id": "fe2d1546",
   "metadata": {},
   "outputs": [
    {
     "name": "stdout",
     "output_type": "stream",
     "text": [
      "[22, 'strawberry', 'blackberry', 'blueberry', 'mulberry', 'boy', 90, 100, 61, 'ketchup', 'Rory', 'whales', 'tiger', 'hibiscus', 'lily', 'petunia', 'water', 2, 11, 'class']\n",
      "\n",
      "[22, 'strawberry', 'blackberry', 'blueberry', 'mulberry', 90, 100, 61, 'ketchup', 'Rory', 'whales', 'tiger', 'hibiscus', 'lily', 'petunia', 'water', 2, 11, 'class']\n"
     ]
    }
   ],
   "source": [
    "# pop() function can help remove items from specified index as well\n",
    "print(sample_list5)\n",
    "print('')\n",
    "sample_list5.pop(5)\n",
    "print(sample_list5)"
   ]
  },
  {
   "cell_type": "code",
   "execution_count": 50,
   "id": "fd652b57",
   "metadata": {},
   "outputs": [
    {
     "name": "stdout",
     "output_type": "stream",
     "text": [
      "[22, 'strawberry', 'blackberry', 'blueberry', 'mulberry', 90, 100, 61, 'ketchup', 'Rory', 'whales', 'tiger', 'hibiscus', 'lily', 'petunia', 2, 11, 'class']\n"
     ]
    }
   ],
   "source": [
    "# del keyword can also remove items from the list at the specified index\n",
    "del sample_list5[-4]\n",
    "print(sample_list5)"
   ]
  },
  {
   "cell_type": "code",
   "execution_count": 51,
   "id": "9ed9ce22",
   "metadata": {},
   "outputs": [
    {
     "name": "stdout",
     "output_type": "stream",
     "text": [
      "['family', 'baby', 'boy', 'kid', 'girl']\n"
     ]
    }
   ],
   "source": [
    "# del keyword can also delete the list completely\n",
    "print(smlr_list)\n"
   ]
  },
  {
   "cell_type": "code",
   "execution_count": 52,
   "id": "4be63819",
   "metadata": {},
   "outputs": [
    {
     "ename": "NameError",
     "evalue": "name 'smlr_list' is not defined",
     "output_type": "error",
     "traceback": [
      "\u001b[1;31m---------------------------------------------------------------------------\u001b[0m",
      "\u001b[1;31mNameError\u001b[0m                                 Traceback (most recent call last)",
      "\u001b[1;32m~\\AppData\\Local\\Temp/ipykernel_6232/2484806037.py\u001b[0m in \u001b[0;36m<module>\u001b[1;34m\u001b[0m\n\u001b[0;32m      1\u001b[0m \u001b[1;32mdel\u001b[0m \u001b[0msmlr_list\u001b[0m\u001b[1;33m\u001b[0m\u001b[1;33m\u001b[0m\u001b[0m\n\u001b[1;32m----> 2\u001b[1;33m \u001b[0mprint\u001b[0m\u001b[1;33m(\u001b[0m\u001b[0msmlr_list\u001b[0m\u001b[1;33m)\u001b[0m\u001b[1;33m\u001b[0m\u001b[1;33m\u001b[0m\u001b[0m\n\u001b[0m",
      "\u001b[1;31mNameError\u001b[0m: name 'smlr_list' is not defined"
     ]
    }
   ],
   "source": [
    "del smlr_list\n",
    "print(smlr_list)"
   ]
  },
  {
   "cell_type": "code",
   "execution_count": 53,
   "id": "09b16bb9",
   "metadata": {},
   "outputs": [
    {
     "name": "stdout",
     "output_type": "stream",
     "text": [
      "['baby', 'kid', 'adult']\n",
      "3\n"
     ]
    }
   ],
   "source": [
    "# clear() function is used to empty the list, meaning it will delete all the items within the list\n",
    "# unlike del keyword, it will not delete the list itself\n",
    "\n",
    "smlr_list2= ['baby', 'kid', 'adult']\n",
    "print(smlr_list2)\n",
    "print(len(smlr_list2))"
   ]
  },
  {
   "cell_type": "code",
   "execution_count": 54,
   "id": "8cef0950",
   "metadata": {},
   "outputs": [
    {
     "name": "stdout",
     "output_type": "stream",
     "text": [
      "[]\n",
      "0\n"
     ]
    }
   ],
   "source": [
    "smlr_list2.clear()\n",
    "print(smlr_list2)\n",
    "print(len(smlr_list2))"
   ]
  },
  {
   "cell_type": "code",
   "execution_count": 55,
   "id": "cf042c58",
   "metadata": {},
   "outputs": [],
   "source": [
    "# Loop Lists"
   ]
  },
  {
   "cell_type": "code",
   "execution_count": 56,
   "id": "cfe693ff",
   "metadata": {},
   "outputs": [
    {
     "name": "stdout",
     "output_type": "stream",
     "text": [
      "['boy', 'family', 'baby', 'boy', 'kid', 'girl']\n"
     ]
    }
   ],
   "source": [
    "# can use the for loop as well as the while loop for lists\n",
    "# can use for loop to print each item of a list one by one\n",
    "smlr_list3=['boy', 'family', 'baby', 'boy', 'kid', 'girl']\n",
    "print(smlr_list3)"
   ]
  },
  {
   "cell_type": "code",
   "execution_count": 57,
   "id": "c3e10856",
   "metadata": {},
   "outputs": [
    {
     "name": "stdout",
     "output_type": "stream",
     "text": [
      "boy\n",
      "family\n",
      "baby\n",
      "boy\n",
      "kid\n",
      "girl\n"
     ]
    }
   ],
   "source": [
    "for x in smlr_list3:\n",
    "    print(x)"
   ]
  },
  {
   "cell_type": "code",
   "execution_count": 58,
   "id": "2b41a57f",
   "metadata": {},
   "outputs": [
    {
     "name": "stdout",
     "output_type": "stream",
     "text": [
      "boy\n",
      "family\n",
      "baby\n",
      "boy\n",
      "kid\n",
      "girl\n"
     ]
    }
   ],
   "source": [
    "# can loop through the list items using their index number with the help of range() and len() functions\n",
    "for i in range(len(smlr_list3)):\n",
    "    print(smlr_list3[i])"
   ]
  },
  {
   "cell_type": "code",
   "execution_count": 59,
   "id": "9b8c19ec",
   "metadata": {},
   "outputs": [
    {
     "name": "stdout",
     "output_type": "stream",
     "text": [
      "boy\n",
      "family\n",
      "baby\n",
      "boy\n",
      "kid\n",
      "girl\n"
     ]
    }
   ],
   "source": [
    "# using while loop can also get the each items of a list one by one\n",
    "# it returns the items as per the index number with the specified condition\n",
    "# for ex: if you want to start getting items from index[0] with increament of each item back to back\n",
    "# mention i=0 and next to be i+1\n",
    "# if want to start from index[2] and from their every 3rd item\n",
    "# mention i=2 and next to be i+3\n",
    "\n",
    "i=0\n",
    "while i< len(smlr_list3):  #till the time i has value less than the length of list\n",
    "    print(smlr_list3[i])   #print each item of the list as per index number\n",
    "    i=i+1                  #with increament in index of +1"
   ]
  },
  {
   "cell_type": "code",
   "execution_count": 60,
   "id": "7fa395f0",
   "metadata": {},
   "outputs": [
    {
     "name": "stdout",
     "output_type": "stream",
     "text": [
      "boy\n",
      "family\n",
      "baby\n",
      "boy\n",
      "kid\n",
      "girl\n"
     ]
    },
    {
     "data": {
      "text/plain": [
       "[None, None, None, None, None, None]"
      ]
     },
     "execution_count": 60,
     "metadata": {},
     "output_type": "execute_result"
    }
   ],
   "source": [
    "# looping using list comprehension\n",
    "# using list comprehension (trying to understand and shorten statement for looping// performing loop in simpler words)\n",
    "#  using shorter syntax to perform loops for lists\n",
    "[print(x) for x in smlr_list3]"
   ]
  },
  {
   "cell_type": "code",
   "execution_count": 61,
   "id": "12aea44a",
   "metadata": {},
   "outputs": [
    {
     "name": "stdout",
     "output_type": "stream",
     "text": [
      "['boy', 'family', 'baby', 'boy', 'kid', 'girl']\n",
      "\n",
      "['boy', 'family', 'baby', 'boy']\n"
     ]
    }
   ],
   "source": [
    "# list comprehension will help you avoid writing lengthier and multi-line codes\n",
    "# like if you have to create a new list from an existing list using a certain condition\n",
    "# you use if condition with for loop\n",
    "\n",
    "print(smlr_list3)\n",
    "print(\"\")\n",
    "\n",
    "new_list3=[] #a new blank list\n",
    "\n",
    "# need to have only those items in new_list3 which have 'i' alphabet in them\n",
    "\n",
    "for x in smlr_list3: #you have to break into each items of list/ each item x one by one\n",
    "    if 'y' in x:     #in each item \n",
    "        new_list3.append(x)\n",
    "        \n",
    "print(new_list3)"
   ]
  },
  {
   "cell_type": "code",
   "execution_count": 62,
   "id": "7d70fd11",
   "metadata": {},
   "outputs": [
    {
     "name": "stdout",
     "output_type": "stream",
     "text": [
      "['boy', 'family', 'baby', 'boy']\n"
     ]
    }
   ],
   "source": [
    "# if you would have used list comprehension for the above result, you would have done it in just one line of code\n",
    "# syntax: new_iterable= [expression for item in existing_iterable if condition ==True]\n",
    "\n",
    "new_list4= [x for x in smlr_list3 if \"y\" in x]\n",
    "\n",
    "print(new_list4)"
   ]
  },
  {
   "cell_type": "code",
   "execution_count": 63,
   "id": "f4337302",
   "metadata": {},
   "outputs": [
    {
     "name": "stdout",
     "output_type": "stream",
     "text": [
      "['kid', 'girl']\n"
     ]
    }
   ],
   "source": [
    "new_list5= [x for x in smlr_list3 if \"y\" not in x]\n",
    "print(new_list5)"
   ]
  },
  {
   "cell_type": "code",
   "execution_count": 64,
   "id": "c4b672c0",
   "metadata": {},
   "outputs": [
    {
     "name": "stdout",
     "output_type": "stream",
     "text": [
      "['boy', 'family', 'baby', 'boy', 'kid', 'girl']\n"
     ]
    }
   ],
   "source": [
    "# without if// meaning how will the list comprehension work without any condition\n",
    "new_list6= [x for x in smlr_list3]\n",
    "print(new_list6)"
   ]
  },
  {
   "cell_type": "code",
   "execution_count": 66,
   "id": "7880e67f",
   "metadata": {},
   "outputs": [
    {
     "name": "stdout",
     "output_type": "stream",
     "text": [
      "[0, 1, 2, 3, 4, 5, 6, 7, 8, 9]\n"
     ]
    }
   ],
   "source": [
    "#  you can make list using list comprehension using any iterable say range()/ set/ tuple etc\n",
    "\n",
    "new_list7= [x for x in range(10)]\n",
    "print(new_list7)"
   ]
  },
  {
   "cell_type": "code",
   "execution_count": 67,
   "id": "c252c8d4",
   "metadata": {},
   "outputs": [
    {
     "name": "stdout",
     "output_type": "stream",
     "text": [
      "[0, 1, 2, 3, 4, 5, 6]\n"
     ]
    }
   ],
   "source": [
    "# can use the same with condition\n",
    "new_list8=[x for x in range(10) if x<7]\n",
    "print(new_list8)"
   ]
  },
  {
   "cell_type": "code",
   "execution_count": 70,
   "id": "295f9f83",
   "metadata": {},
   "outputs": [
    {
     "name": "stdout",
     "output_type": "stream",
     "text": [
      "['boy', 'family', 'baby', 'boy', 'kid', 'girl']\n",
      "\n",
      "['BOY', 'FAMILY', 'BABY', 'BOY', 'KID', 'GIRL']\n"
     ]
    }
   ],
   "source": [
    "# the first x in your syntax is your expression (or say outcome) for the new item in the iteration <<< need to check this\n",
    "# while the second x in your syntax is the item of your existing iteration <<< need to check this\n",
    "# you can even manipulate this outcome before making it to a new list\n",
    "\n",
    "print(smlr_list3)\n",
    "print('')\n",
    "\n",
    "new_list9=[x.upper() for x in smlr_list3]\n",
    "print(new_list9)"
   ]
  },
  {
   "cell_type": "code",
   "execution_count": 76,
   "id": "b987482f",
   "metadata": {},
   "outputs": [
    {
     "name": "stdout",
     "output_type": "stream",
     "text": [
      "['boy', 'family', 'baby', 'boy', 'kid', 'girl']\n",
      "\n",
      "['new_item', 'new_item', 'new_item', 'new_item', 'new_item', 'new_item']\n"
     ]
    }
   ],
   "source": [
    "# you can have your new list items as you require\n",
    "\n",
    "print(smlr_list3)\n",
    "print('')\n",
    "\n",
    "new_list10=['new_item' for x in smlr_list3]\n",
    "print(new_list10)"
   ]
  },
  {
   "cell_type": "code",
   "execution_count": null,
   "id": "20f3db86",
   "metadata": {},
   "outputs": [],
   "source": [
    "new_list11=[x if x='']"
   ]
  }
 ],
 "metadata": {
  "kernelspec": {
   "display_name": "Python 3 (ipykernel)",
   "language": "python",
   "name": "python3"
  },
  "language_info": {
   "codemirror_mode": {
    "name": "ipython",
    "version": 3
   },
   "file_extension": ".py",
   "mimetype": "text/x-python",
   "name": "python",
   "nbconvert_exporter": "python",
   "pygments_lexer": "ipython3",
   "version": "3.9.7"
  }
 },
 "nbformat": 4,
 "nbformat_minor": 5
}
